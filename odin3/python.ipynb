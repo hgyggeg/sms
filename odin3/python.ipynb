{
 "cells": [
  {
   "cell_type": "code",
<<<<<<< HEAD
   "execution_count": null,
=======
   "execution_count": 2,
>>>>>>> b074f207787f563685ba1ae5c7d9d54bd5853b07
   "id": "00f95a61",dsa
   "metadata": {},
   "outputs": [
    {
     "name": "stdout",
     "output_type": "stream",
     "text": [
      "22.2\n"
     ]
    }
   ],
   "source": [
<<<<<<< HEAD
    "print(22.2)KeyError"
=======
    "print(22.2)"
>>>>>>> b074f207787f563685ba1ae5c7d9d54bd5853b07
   ]
  },
  {
   "cell_type": "markdown",
   "id": "74a4ec50",
   "metadata": {},
   "source": [
    "Python"
   ]
  },
  {
   "cell_type": "code",
   "execution_count": null,
<<<<<<< HEAD
   "id": "4ee08a50",
   "metadata": {},
   "outputs": [],
   "source": []
  },
  {
   "cell_type": "code",
   "execution_count": null,
=======
>>>>>>> b074f207787f563685ba1ae5c7d9d54bd5853b07
   "id": "7182b9bc",
   "metadata": {},
   "outputs": [],
   "source": []
  }
 ],
 "metadata": {
  "kernelspec": {
   "display_name": "Python 3",
   "language": "python",
   "name": "python3"
  },
  "language_info": {
   "codemirror_mode": {
    "name": "ipython",
    "version": 3
   },
   "file_extension": ".py",
   "mimetype": "text/x-python",
   "name": "python",
   "nbconvert_exporter": "python",
   "pygments_lexer": "ipython3",
   "version": "3.13.3"
  }
 },
 "nbformat": 4,
 "nbformat_minor": 5
}
